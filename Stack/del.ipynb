{
 "cells": [
  {
   "cell_type": "markdown",
   "id": "7389857c",
   "metadata": {},
   "source": [
    "## 4. 코딩테스트 필수 문법"
   ]
  },
  {
   "cell_type": "code",
   "execution_count": null,
   "id": "65419485",
   "metadata": {},
   "outputs": [
    {
     "name": "stdout",
     "output_type": "stream",
     "text": [
      "3\n",
      "52\n"
     ]
    }
   ],
   "source": [
    "# 정수형 비트연산\n",
    "\n",
    "a = 13\n",
    "print(a >> 2) # 왼쪽 shift (a에 2^2를 곱한 것과 같음)\n",
    "print(a << 2) # 오른쪽 shift (a에 2^2를 나눈 것과 같음)\n",
    "print(a >> 1) # 왼쪽 shift (a에 2^1을 곱한 것과 같음)\n",
    "print(a << 1) # 오른쪽 shift (a에 2^1을 나눈 것과 같음)"
   ]
  },
  {
   "cell_type": "code",
   "execution_count": null,
   "id": "abc626c0",
   "metadata": {},
   "outputs": [
    {
     "name": "stdout",
     "output_type": "stream",
     "text": [
      "0.39999999999999947\n",
      "5.551115123125783e-17\n"
     ]
    }
   ],
   "source": [
    "print(10.0 % 3.2) # 결과값이 0.4가 아니라 이렇게 나오는 이유는 파이썬이 부동소수형(소수 저장) 데이터를 이진법으로 표현하기 때문, 즉 표현 과정에서 오차가 발생하기 때문\n",
    "print(0.1 + 0.1 + 0.1 - 0.3) # 이것도 마찬가지로 부동소수형 데이터를 이진법으로 표현하기 때문에 0이 안나옴"
   ]
  },
  {
   "cell_type": "markdown",
   "id": "6769f10c",
   "metadata": {},
   "source": [
    "그래서 부동소수형 데이터를 활용하는 문제는 오차 허용 범위를 언급하는 경우가 많음!"
   ]
  },
  {
   "cell_type": "code",
   "execution_count": null,
   "id": "fa7f710e",
   "metadata": {},
   "outputs": [],
   "source": []
  }
 ],
 "metadata": {
  "kernelspec": {
   "display_name": "monai",
   "language": "python",
   "name": "python3"
  },
  "language_info": {
   "codemirror_mode": {
    "name": "ipython",
    "version": 3
   },
   "file_extension": ".py",
   "mimetype": "text/x-python",
   "name": "python",
   "nbconvert_exporter": "python",
   "pygments_lexer": "ipython3",
   "version": "3.10.13"
  }
 },
 "nbformat": 4,
 "nbformat_minor": 5
}
