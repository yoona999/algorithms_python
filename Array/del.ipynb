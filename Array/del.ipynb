{
 "cells": [
  {
   "cell_type": "markdown",
   "id": "43cc5bbf",
   "metadata": {},
   "source": [
    "### 03.py"
   ]
  },
  {
   "cell_type": "markdown",
   "id": "af8d6c0d",
   "metadata": {},
   "source": [
    "정수 배열 numbers가 주어집니다. numbers에서 서로 다른 인덱스에 있는 2개의 수를 뽑아 더해 만들 수 있는 모든 수를 배열에 오름차순으로 담아 반환하는 solution( ) 함수를 완성하세요."
   ]
  },
  {
   "cell_type": "code",
   "execution_count": null,
   "id": "a9414574",
   "metadata": {},
   "outputs": [
    {
     "name": "stdout",
     "output_type": "stream",
     "text": [
      "None\n"
     ]
    }
   ],
   "source": [
    "# .sort한거를 바로 print 또는 return 하는 경우 -> None 반환\n",
    "def solution(numbers):\n",
    "    ans = []\n",
    "    for i in range(len(numbers)-1):\n",
    "        for j in range(i+1, len(numbers)):\n",
    "            ans.append(numbers[i]+numbers[j])\n",
    "    return ans.sort(reverse = False) # ans 리스트 자체를 변경시킴\n",
    "\n",
    "print(solution([2,1,3,4,1]))"
   ]
  },
  {
   "cell_type": "code",
   "execution_count": null,
   "id": "db50ce40",
   "metadata": {},
   "outputs": [
    {
     "name": "stdout",
     "output_type": "stream",
     "text": [
      "[2, 3, 4, 5, 6, 7]\n"
     ]
    }
   ],
   "source": [
    "# .sort()한 후 return/print 하는 경우 -> OK\n",
    "def solution(numbers):\n",
    "    ans = []\n",
    "    for i in range(len(numbers)-1):\n",
    "        for j in range(i+1, len(numbers)):\n",
    "            ans.append(numbers[i]+numbers[j])\n",
    "    ans.sort(reverse = False) # ans 리스트 자체를 변경시킴\n",
    "    return list(set(ans))\n",
    "\n",
    "print(solution([2,1,3,4,1]))"
   ]
  },
  {
   "cell_type": "code",
   "execution_count": null,
   "id": "8b945ed5",
   "metadata": {},
   "outputs": [
    {
     "name": "stdout",
     "output_type": "stream",
     "text": [
      "[2, 3, 4, 5, 6, 7]\n"
     ]
    }
   ],
   "source": [
    "# sorted method를 사용하는 경우 -> OK\n",
    "def solution(numbers):\n",
    "    ans = []\n",
    "    for i in range(len(numbers)-1):\n",
    "        for j in range(i+1, len(numbers)):\n",
    "            ans.append(numbers[i]+numbers[j])\n",
    "    return sorted(set(ans))\n",
    "\n",
    "print(solution([2,1,3,4,1]))"
   ]
  },
  {
   "cell_type": "markdown",
   "id": "53d8643b",
   "metadata": {},
   "source": [
    ".sort()는 ans를 제자리에서 정렬하고(원본 리스트 자체도 변경), None을 반환  \n",
    "sorted()는 함수 원본 리스트는 그대로 두고, 새로운 리스트 반환\n"
   ]
  },
  {
   "cell_type": "markdown",
   "id": "bd452f29",
   "metadata": {},
   "source": [
    "### 04.py "
   ]
  },
  {
   "cell_type": "markdown",
   "id": "eea6312d",
   "metadata": {},
   "source": [
    "수포자는 수학을 포기한 사람을 줄인 표현입니다. 수포자 삼인방은 모의고사에 수학 문제를 전부 찍으려 합니다. 수포자는 1번 문제부터 마지막 문제까지 다음과 같이 찍습니다.\n",
    "\n",
    "1번 수포자가 찍는 방식 : 1, 2, 3, 4, 5, 1, 2, 3, 4, 5, ...\n",
    "2번 수포자가 찍는 방식 : 2, 1, 2, 3, 2, 4, 2, 5, 2, 1, 2, 3, 2, 4, 2, 5, ...\n",
    "3번 수포자가 찍는 방식 : 3, 3, 1, 1, 2, 2, 4, 4, 5, 5, 3, 3, 1, 1, 2, 2, 4, 4, 5, 5, ...\n",
    "1번 문제부터 마지막 문제까지의 정답이 순서대로 저장된 배열 answers가 주어졌을 때 가장 많은 문제를 맞힌 사람이 누구인지 배열에 담아 반환하도록 solution( ) 함수를 작성하세요."
   ]
  },
  {
   "cell_type": "code",
   "execution_count": null,
   "id": "000184c7",
   "metadata": {},
   "outputs": [
    {
     "name": "stdout",
     "output_type": "stream",
     "text": [
      "[1]\n",
      "[1, 2, 3]\n"
     ]
    }
   ],
   "source": [
    "# my solution\n",
    "def solution(answers):\n",
    "    # 1번 수포자: [1, 2, 3, 4, 5]\n",
    "    first = [1,2,3,4,5]\n",
    "    # 2번 수포자: [2, 1, 2, 3, 2, 4, 2, 5]\n",
    "    second = [2,1,2,3,2,4,2,5]\n",
    "    # 3번 수포자: [3, 3, 1, 1, 2, 2, 4, 4, 5, 5]\n",
    "    third = [3,3,1,1,2,2,4,4,5,5]\n",
    "\n",
    "    ans = [0] * 3\n",
    "\n",
    "    for i in range(len(answers)):\n",
    "        first_num = i % len(first)\n",
    "        second_num = i % len(second)\n",
    "        third_num = i % len(third)\n",
    "\n",
    "        if first[first_num] == answers[i]:\n",
    "            ans[0] += 1\n",
    "        if second[second_num] == answers[i]:\n",
    "            ans[1] += 1\n",
    "        if third[third_num] == answers[i]:\n",
    "            ans[2] += 1\n",
    "        \n",
    "    max_score = max(ans)\n",
    "    result = []\n",
    "    for i in range(len(ans)):\n",
    "        if ans[i] == max_score:\n",
    "            result.append(i + 1)  # 수포자 번호는 1부터 시작하므로 i + 1\n",
    "    return result\n",
    "\n",
    "print(solution([1,2,3,4,5]))\n",
    "print(solution([1,3,2,4,2]))"
   ]
  },
  {
   "cell_type": "code",
   "execution_count": 17,
   "id": "9baf8f4d",
   "metadata": {},
   "outputs": [
    {
     "name": "stdout",
     "output_type": "stream",
     "text": [
      "[1]\n",
      "[1, 2, 3]\n"
     ]
    }
   ],
   "source": [
    "# 위의 패턴을 각각 나누지 않고 for문으로 한번에 처리\n",
    "def solution(answers):\n",
    "    # 수포자들의 패턴\n",
    "    patterns = [\n",
    "        [1, 2, 3, 4, 5],          # 1번 수포자\n",
    "        [2, 1, 2, 3, 2, 4, 2, 5], # 2번 수포자\n",
    "        [3, 3, 1, 1, 2, 2, 4, 4, 5, 5] # 3번 수포자\n",
    "    ]\n",
    "\n",
    "    scores = [0] * 3\n",
    "    for i, answer in enumerate(answers):\n",
    "        for j, pattern in enumerate(patterns):\n",
    "            if answer == pattern[i % len(pattern)]:\n",
    "                scores[j] += 1\n",
    "    \n",
    "    max_score = max(scores)\n",
    "    highest_scores = [i + 1 for i, score in enumerate(scores) if score == max_score]\n",
    "    return highest_scores\n",
    "print(solution([1,2,3,4,5]))\n",
    "print(solution([1,3,2,4,2]))\n"
   ]
  },
  {
   "cell_type": "markdown",
   "id": "23b55ac1",
   "metadata": {},
   "source": [
    "### 05.py"
   ]
  },
  {
   "cell_type": "markdown",
   "id": "e2e158dc",
   "metadata": {},
   "source": [
    "2차원 행렬 arr1과 arr2를 입력받아 arr1에 arr2를 곱한 결과를 반환하는 solution( ) 함수를 완성하세요."
   ]
  },
  {
   "cell_type": "markdown",
   "id": "ce97f72f",
   "metadata": {},
   "source": [
    "def solution(arr1, arr2):\n",
    "    for i in range(len(arr1)):# 행  \n",
    "        \n",
    "        "
   ]
  },
  {
   "cell_type": "code",
   "execution_count": 18,
   "id": "e7ad20cb",
   "metadata": {},
   "outputs": [
    {
     "data": {
      "text/plain": [
       "[[22, 22, 11], [36, 28, 18], [29, 20, 14]]"
      ]
     },
     "execution_count": 18,
     "metadata": {},
     "output_type": "execute_result"
    }
   ],
   "source": [
    "def solution(arr1, arr2):\n",
    "    answer = []\n",
    "    for i in range(len(arr1)):\n",
    "        temp = []\n",
    "        for j in range(len(arr2[0])):\n",
    "            sum_value = 0\n",
    "            for k in range(len(arr2)):\n",
    "                sum_value += arr1[i][k] * arr2[k][j]\n",
    "            temp.append(sum_value)\n",
    "        answer.append(temp)\n",
    "    return answer\n",
    "\n",
    "solution([[1,4],[3,2],[4,1]], [[3,3],[3,3]])\n",
    "solution([[2,3,2],[4,2,4],[3,1,4]], [[5,4,3],[2,4,1],[3,1,1]])"
   ]
  },
  {
   "cell_type": "markdown",
   "id": "1de2c431",
   "metadata": {},
   "source": [
    "### 06.py"
   ]
  },
  {
   "cell_type": "markdown",
   "id": "70bf10c9",
   "metadata": {},
   "source": [
    "### 07.py"
   ]
  },
  {
   "cell_type": "markdown",
   "id": "9eb9382c",
   "metadata": {},
   "source": [
    "### 08.py"
   ]
  },
  {
   "cell_type": "markdown",
   "id": "78b19084",
   "metadata": {},
   "source": [
    "### 09.py"
   ]
  },
  {
   "cell_type": "markdown",
   "id": "74dafc6a",
   "metadata": {},
   "source": [
    "### 10.py"
   ]
  },
  {
   "cell_type": "markdown",
   "id": "f03d3e88",
   "metadata": {},
   "source": [
    "### 11.py"
   ]
  },
  {
   "cell_type": "markdown",
   "id": "a6221db8",
   "metadata": {},
   "source": [
    "### 12.py"
   ]
  },
  {
   "cell_type": "markdown",
   "id": "db5be3e2",
   "metadata": {},
   "source": [
    "### 13.py"
   ]
  },
  {
   "cell_type": "markdown",
   "id": "e98a0f18",
   "metadata": {},
   "source": []
  }
 ],
 "metadata": {
  "kernelspec": {
   "display_name": "monai",
   "language": "python",
   "name": "python3"
  },
  "language_info": {
   "codemirror_mode": {
    "name": "ipython",
    "version": 3
   },
   "file_extension": ".py",
   "mimetype": "text/x-python",
   "name": "python",
   "nbconvert_exporter": "python",
   "pygments_lexer": "ipython3",
   "version": "3.10.13"
  }
 },
 "nbformat": 4,
 "nbformat_minor": 5
}
