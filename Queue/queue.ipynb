{
 "cells": [
  {
   "cell_type": "markdown",
   "id": "cb3fe954",
   "metadata": {},
   "source": [
    "### Queue"
   ]
  },
  {
   "cell_type": "markdown",
   "id": "2eabe48c",
   "metadata": {},
   "source": [
    "선입선출(FIFO)  \n",
    "삽입 = push  \n",
    "꺼냄 = pop"
   ]
  },
  {
   "cell_type": "markdown",
   "id": "97759a75",
   "metadata": {},
   "source": [
    "연산) boolean isFull(),   \n",
    "isEmpty(), : front, rear의 값이 같은지 확인해서 큐에 원소가 없는데 pop하는 동작 방지 / isEmpty가 false(비어있지 않다면)이면 front +1 \n",
    "void push(ItemType item),  \n",
    "ItemType pop()  \n",
    "\n",
    "상태) int front(큐에서 다음에 제거할 원소의 위치 기록), int rear(큐에서 최근에 푸시한 데이터의 위치 기록), ItemType data(maxsize) 큐의 데이터를 관리하는 배열, 최대 maxsize개의 데이터 관리"
   ]
  },
  {
   "cell_type": "markdown",
   "id": "3d93a14f",
   "metadata": {},
   "source": [
    "Queue는 front의 다음부터 rear까지를 큐가 관리하는 데이터로 생각해야하므로 마지막 푸시에서 실제 data에 저장한 데이터는 3,5,6,8로 4개지만 큐는 5,6,8로 3개라고 생각해야함  \n",
    "실질적으로 여기서 실제 data의 공간은 4개인데 큐가 관리하는 데이터는 3개이므로 메모리 공간을 낭비한 상황 -> 큐를 한 방향으로 낭비해서, 즉 front 이전의 공간을 활용하지 못함\n"
   ]
  },
  {
   "cell_type": "markdown",
   "id": "8e1f4849",
   "metadata": {},
   "source": [
    "Queue 구현 방법  \n",
    "1. list 활용 - append(푸시), pop(팝) -> 여기에 인수로 0을 넣음, pop()에 인수를 넣지 않으면 맨 뒤에 있는 원소 삭제됨(스택 FILO가 기본으로 되어서 queue는 0을 넣어줘야함!)\n",
    "2. deque 활용 - popleft() -> 큐의 맨앞 데이터 제거. 이게 더 성능 good!"
   ]
  },
  {
   "cell_type": "markdown",
   "id": "367cfcd3",
   "metadata": {
    "vscode": {
     "languageId": "plaintext"
    }
   },
   "source": [
    "#### 코딩테스트에서는 list보다는 deque이 시간 복잡도면에서 효율적이어서 deque를 사용함!"
   ]
  }
 ],
 "metadata": {
  "language_info": {
   "name": "python"
  }
 },
 "nbformat": 4,
 "nbformat_minor": 5
}
